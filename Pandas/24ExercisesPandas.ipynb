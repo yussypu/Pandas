{
 "cells": [
  {
   "cell_type": "code",
   "execution_count": 1,
   "id": "d8285780-5e7f-42f4-a79d-39e04c54345b",
   "metadata": {},
   "outputs": [],
   "source": [
    "import pandas as pd\n",
    "import numpy as np"
   ]
  },
  {
   "cell_type": "code",
   "execution_count": 2,
   "id": "92c72299-fde9-4d82-9f5e-c2899a45c53f",
   "metadata": {},
   "outputs": [
    {
     "name": "stdout",
     "output_type": "stream",
     "text": [
      "0    10\n",
      "1    20\n",
      "2    30\n",
      "3    40\n",
      "4    50\n",
      "dtype: int64\n",
      "0    1\n",
      "1    2\n",
      "2    3\n",
      "3    4\n",
      "4    5\n",
      "dtype: int64\n",
      "name        Yahya\n",
      "age            20\n",
      "city    Amsterdam\n",
      "dtype: object\n"
     ]
    }
   ],
   "source": [
    "# How to create a series from a list, numpy array and dict? \n",
    "myList = [10, 20, 30, 40, 50]\n",
    "listAsSeries = pd.Series(myList)\n",
    "myArray = np.array([1, 2, 3, 4, 5])\n",
    "arrayAsSeries = pd.Series(myArray)\n",
    "myDict = {'name': 'Yahya', 'age': 20, 'city': 'Amsterdam'}\n",
    "dictAsSeries = pd.Series(myDict)\n",
    "print(listAsSeries)\n",
    "print(arrayAsSeries)\n",
    "print(dictAsSeries)"
   ]
  },
  {
   "cell_type": "code",
   "execution_count": 3,
   "id": "261c4e54-8e8b-4bda-b183-1ab870ff16e1",
   "metadata": {},
   "outputs": [
    {
     "name": "stdout",
     "output_type": "stream",
     "text": [
      "         0    1          2\n",
      "0     10.0  1.0        NaN\n",
      "1     20.0  2.0        NaN\n",
      "2     30.0  3.0        NaN\n",
      "3     40.0  4.0        NaN\n",
      "4     50.0  5.0        NaN\n",
      "name   NaN  NaN      Yahya\n",
      "age    NaN  NaN         20\n",
      "city   NaN  NaN  Amsterdam\n"
     ]
    }
   ],
   "source": [
    "# How to combine many series to form a dataframe?\n",
    "df = pd.concat([listAsSeries, arrayAsSeries, dictAsSeries], axis=1)\n",
    "print(df)"
   ]
  },
  {
   "cell_type": "code",
   "execution_count": 5,
   "id": "53c7e845-fdb0-4f77-9841-af806c71cb82",
   "metadata": {},
   "outputs": [
    {
     "name": "stdout",
     "output_type": "stream",
     "text": [
      "0    1\n",
      "1    2\n",
      "2    3\n",
      "dtype: int64\n"
     ]
    }
   ],
   "source": [
    "# How to get the items of series A not present in series B?\n",
    "ser1 = pd.Series([1, 2, 3, 4, 5])\n",
    "ser2 = pd.Series([4, 5, 6, 7, 8])\n",
    "result = ser1[~ser1.isin(ser2)]\n",
    "print(result)"
   ]
  },
  {
   "cell_type": "code",
   "execution_count": 7,
   "id": "fd12f1a2-7e90-4577-b7cf-ee8a35dbdc34",
   "metadata": {},
   "outputs": [
    {
     "name": "stdout",
     "output_type": "stream",
     "text": [
      "0    1\n",
      "1    2\n",
      "2    3\n",
      "2    6\n",
      "3    7\n",
      "4    8\n",
      "dtype: int64\n"
     ]
    }
   ],
   "source": [
    "# How to get the items not common to both series A and series B?\n",
    "result = pd.concat([ser1, ser2]).drop_duplicates(keep=False)\n",
    "print(result)"
   ]
  },
  {
   "cell_type": "code",
   "execution_count": 8,
   "id": "37939c99-5c22-433f-ae63-4391772639f3",
   "metadata": {},
   "outputs": [
    {
     "name": "stdout",
     "output_type": "stream",
     "text": [
      "e    5\n",
      "f    5\n",
      "h    4\n",
      "d    4\n",
      "g    4\n",
      "a    3\n",
      "c    3\n",
      "b    2\n",
      "Name: count, dtype: int64\n"
     ]
    }
   ],
   "source": [
    "# How to get frequency counts of unique items of a series?\n",
    "ser = pd.Series(np.take(list('abcdefgh'), np.random.randint(8, size=30)))\n",
    "frequencyCounts = ser.value_counts()\n",
    "print(frequencyCounts)"
   ]
  },
  {
   "cell_type": "code",
   "execution_count": 9,
   "id": "3c396ceb-f7f5-4d8e-8fcf-03ed460cf1ee",
   "metadata": {},
   "outputs": [
    {
     "name": "stdout",
     "output_type": "stream",
     "text": [
      "   0  1  2  3  4\n",
      "0  4  8  6  2  8\n",
      "1  2  1  9  2  2\n",
      "2  4  2  3  6  8\n",
      "3  5  2  6  5  5\n",
      "4  9  8  3  4  8\n",
      "5  3  1  7  2  7\n",
      "6  3  5  5  6  6\n"
     ]
    }
   ],
   "source": [
    "# How to convert a numpy array to a dataframe of given shape? (L1)\n",
    "# Reshape the series ser into a dataframe with 7 rows and 5 columns\n",
    "ser = pd.Series(np.random.randint(1, 10, 35))\n",
    "reshaped = ser.values.reshape(7, 5)\n",
    "df = pd.DataFrame(reshaped)\n",
    "print(df)"
   ]
  },
  {
   "cell_type": "code",
   "execution_count": 12,
   "id": "c2e41923-5eaa-4fd1-9c01-33f695171585",
   "metadata": {},
   "outputs": [
    {
     "name": "stdout",
     "output_type": "stream",
     "text": [
      "[6]\n"
     ]
    }
   ],
   "source": [
    "# How to find the positions of numbers that are multiples of 3 from a series?\n",
    "np.random.RandomState(100)\n",
    "ser = pd.Series(np.random.randint(1, 5, 10))\n",
    "multiples = ser % 3 == 0\n",
    "positions = np.where(multiples) [0]\n",
    "print(positions)"
   ]
  },
  {
   "cell_type": "code",
   "execution_count": 14,
   "id": "60715ca8-bc89-4210-8f99-a8ff69646d96",
   "metadata": {},
   "outputs": [
    {
     "name": "stdout",
     "output_type": "stream",
     "text": [
      "0     a\n",
      "4     e\n",
      "8     i\n",
      "14    o\n",
      "20    u\n",
      "dtype: object\n"
     ]
    }
   ],
   "source": [
    "# How to extract items at given positions from a series\n",
    "ser = pd.Series(list('abcdefghijklmnopqrstuvwxyz'))\n",
    "pos = [0, 4, 8, 14, 20]\n",
    "result = ser[pos]\n",
    "print(result)"
   ]
  },
  {
   "cell_type": "code",
   "execution_count": 15,
   "id": "18b062fd-a327-4f26-9df2-feffaf86bfe1",
   "metadata": {},
   "outputs": [
    {
     "name": "stdout",
     "output_type": "stream",
     "text": [
      "0    0\n",
      "1    1\n",
      "2    2\n",
      "3    3\n",
      "4    4\n",
      "0    a\n",
      "1    b\n",
      "2    c\n",
      "3    d\n",
      "4    e\n",
      "dtype: object\n"
     ]
    }
   ],
   "source": [
    "# How to stack two series vertically and horizontally ?\n",
    "ser1 = pd.Series(range(5))\n",
    "ser2 = pd.Series(list('abcde'))\n",
    "stacked = pd.concat([ser1, ser2], axis=0)\n",
    "print(stacked)"
   ]
  },
  {
   "cell_type": "code",
   "execution_count": 16,
   "id": "ef5b7639-12d6-42fb-bfb8-2899fb8fab6b",
   "metadata": {},
   "outputs": [
    {
     "name": "stdout",
     "output_type": "stream",
     "text": [
      "[0 4 5 8]\n"
     ]
    }
   ],
   "source": [
    "# How to get the positions of items of series A in another series B?\n",
    "ser1 = pd.Series([10, 9, 6, 5, 3, 1, 12, 8, 13])\n",
    "ser2 = pd.Series([1, 3, 10, 13])\n",
    "pos = ser1.isin(ser2)\n",
    "positions = np.where(pos)[0]\n",
    "print(positions)"
   ]
  },
  {
   "cell_type": "code",
   "execution_count": 17,
   "id": "91166a71-2105-4cff-a438-8768b0fca328",
   "metadata": {},
   "outputs": [
    {
     "name": "stdout",
     "output_type": "stream",
     "text": [
      "0    NaN\n",
      "1    NaN\n",
      "2    1.0\n",
      "3    1.0\n",
      "4    1.0\n",
      "5    1.0\n",
      "6    0.0\n",
      "7    2.0\n",
      "dtype: float64\n"
     ]
    }
   ],
   "source": [
    "# How to compute difference of differences between consequtive numbers of a series?\n",
    "ser = pd.Series([1, 3, 6, 10, 15, 21, 27, 35])\n",
    "diff = ser.diff()\n",
    "diffOfDiff = diff.diff()\n",
    "print(diffOfDiff)"
   ]
  },
  {
   "cell_type": "code",
   "execution_count": 18,
   "id": "017bffbf-a40d-429a-a97f-3dbfdc9e08f4",
   "metadata": {},
   "outputs": [
    {
     "name": "stdout",
     "output_type": "stream",
     "text": [
      "dbccdebcabedcggade\n"
     ]
    }
   ],
   "source": [
    "# How to replace missing spaces in a string with the least frequent character?\n",
    "myStr = 'dbc deb abed ggade'\n",
    "ser = pd.Series(list(myStr))\n",
    "counts = ser.value_counts()\n",
    "leastFrequent = counts.drop(' ').idxmin()\n",
    "result = ser.replace(' ', leastFrequent).str.cat(sep='')\n",
    "print(result)"
   ]
  },
  {
   "cell_type": "code",
   "execution_count": null,
   "id": "dae83015-12df-4298-89f9-8394264ac51a",
   "metadata": {},
   "outputs": [],
   "source": [
    "#  How to check if a dataframe has any missing values?\n",
    "df.isnull().values.any()\n",
    "print()"
   ]
  }
 ],
 "metadata": {
  "kernelspec": {
   "display_name": "Python 3 (ipykernel)",
   "language": "python",
   "name": "python3"
  },
  "language_info": {
   "codemirror_mode": {
    "name": "ipython",
    "version": 3
   },
   "file_extension": ".py",
   "mimetype": "text/x-python",
   "name": "python",
   "nbconvert_exporter": "python",
   "pygments_lexer": "ipython3",
   "version": "3.11.9"
  }
 },
 "nbformat": 4,
 "nbformat_minor": 5
}
