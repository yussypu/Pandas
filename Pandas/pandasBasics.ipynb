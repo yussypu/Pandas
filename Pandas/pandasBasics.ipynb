{
 "cells": [
  {
   "cell_type": "code",
   "execution_count": 1,
   "id": "2c892053-8629-425c-9425-825a261cde22",
   "metadata": {},
   "outputs": [
    {
     "name": "stdout",
     "output_type": "stream",
     "text": [
      "0    1\n",
      "1    2\n",
      "2    3\n",
      "3    4\n",
      "4    5\n",
      "5    6\n",
      "dtype: int64\n"
     ]
    }
   ],
   "source": [
    "# Write a Pandas program to create and display a one-dimensional array-like object containing an array of data using Pandas module\n",
    "import pandas as pd\n",
    "data = [1,2,3,4,5,6]\n",
    "mySeries = pd.Series(data)\n",
    "\n",
    "print(mySeries)"
   ]
  },
  {
   "cell_type": "code",
   "execution_count": 2,
   "id": "3d4416cc-b6bf-4146-b4c6-95c4be3f358a",
   "metadata": {},
   "outputs": [
    {
     "name": "stdout",
     "output_type": "stream",
     "text": [
      "[1, 2, 3, 4, 5, 6]\n",
      "<class 'list'>\n"
     ]
    }
   ],
   "source": [
    "# Write a Pandas program to convert a Panda module Series to Python list and it's type.\n",
    "myList = mySeries.tolist()\n",
    "print(myList)\n",
    "print(type(myList))"
   ]
  },
  {
   "cell_type": "code",
   "execution_count": 3,
   "id": "47eda0bb-e1b2-4850-88b0-2878118d981b",
   "metadata": {},
   "outputs": [
    {
     "name": "stdout",
     "output_type": "stream",
     "text": [
      "Sum:\n",
      "0     8\n",
      "1    10\n",
      "2    12\n",
      "3    14\n",
      "4    16\n",
      "5    18\n",
      "dtype: int64\n",
      "Subtraction:\n",
      "0   -6\n",
      "1   -6\n",
      "2   -6\n",
      "3   -6\n",
      "4   -6\n",
      "5   -6\n",
      "dtype: int64\n",
      "Multiplication:\n",
      "0     7\n",
      "1    16\n",
      "2    27\n",
      "3    40\n",
      "4    55\n",
      "5    72\n",
      "dtype: int64\n",
      "Division:\n",
      "0    0.142857\n",
      "1    0.250000\n",
      "2    0.333333\n",
      "3    0.400000\n",
      "4    0.454545\n",
      "5    0.500000\n",
      "dtype: float64\n"
     ]
    }
   ],
   "source": [
    "# Write a Pandas program to add, subtract, multiple and divide two Pandas Series.\n",
    "import numpy as np\n",
    "\n",
    "series1 = pd.Series([1,2,3,4,5,6])\n",
    "series2 = pd.Series([7,8,9,10,11,12])\n",
    "\n",
    "sum = series1 + series2\n",
    "print(\"Sum:\")\n",
    "print(sum)\n",
    "\n",
    "subtract = series1 - series2\n",
    "print(\"Subtraction:\")\n",
    "print(subtract)\n",
    "\n",
    "multiply = series1 * series2\n",
    "print(\"Multiplication:\")\n",
    "print(multiply)\n",
    "\n",
    "div = series1 / series2.where(series2 != 0, np.nan) # our own series so not necessary \n",
    "print(\"Division:\")\n",
    "print(div)"
   ]
  },
  {
   "cell_type": "code",
   "execution_count": 4,
   "id": "7aef5b5f-fe0c-4460-b755-290be3f30366",
   "metadata": {},
   "outputs": [
    {
     "name": "stdout",
     "output_type": "stream",
     "text": [
      "   self  other\n",
      "0     1      7\n",
      "1     2      8\n",
      "2     3      9\n",
      "3     4     10\n",
      "4     5     11\n",
      "5     6     12\n"
     ]
    }
   ],
   "source": [
    "# Write a Pandas program to compare the elements of the two Pandas Series.\n",
    "comparison = series1.compare(series2)\n",
    "print(comparison)"
   ]
  },
  {
   "cell_type": "code",
   "execution_count": 5,
   "id": "4ca471db-6d12-4c64-83ae-d8d7dd9226ba",
   "metadata": {},
   "outputs": [
    {
     "name": "stdout",
     "output_type": "stream",
     "text": [
      "name         Yahya\n",
      "age             20\n",
      "last name    Ehsan\n",
      "dtype: object\n"
     ]
    }
   ],
   "source": [
    "# Write a Pandas program to convert a dictionary to a Pandas series.\n",
    "myDictionary = {'name':'Yahya', 'age':20, 'last name':'Ehsan'}\n",
    "dictSeries = pd.Series(myDictionary)\n",
    "\n",
    "print(dictSeries)"
   ]
  },
  {
   "cell_type": "code",
   "execution_count": 6,
   "id": "87cb1bfe-e9c2-4110-b61f-87a707e41a0f",
   "metadata": {},
   "outputs": [
    {
     "name": "stdout",
     "output_type": "stream",
     "text": [
      "0    1\n",
      "1    2\n",
      "2    3\n",
      "3    4\n",
      "4    5\n",
      "dtype: int64\n"
     ]
    }
   ],
   "source": [
    "# Write a Pandas program to change the data type of given a column or a Series\n",
    "dataToChange = pd.Series([1,2,3,'4',5.5])\n",
    "changedData = dataToChange.astype(int)\n",
    "print(changedData)"
   ]
  },
  {
   "cell_type": "code",
   "execution_count": 8,
   "id": "8fc32234-6f19-47cd-8f35-3b68b1075680",
   "metadata": {},
   "outputs": [
    {
     "name": "stdout",
     "output_type": "stream",
     "text": [
      "0    a\n",
      "1    b\n",
      "2    c\n",
      "3    d\n",
      "4    e\n",
      "5    f\n",
      "6    1\n",
      "7    2\n",
      "8    3\n",
      "dtype: object\n"
     ]
    }
   ],
   "source": [
    "#Write a Pandas program to convert Series of lists to one Series.\n",
    "seriesOfLists = pd.Series([['a', 'b'], ['c'], ['d', 'e', 'f'],[1,2,3]])\n",
    "oneList = []\n",
    "for sublist in seriesOfLists:\n",
    "    for item in sublist:\n",
    "        oneList.append(item)\n",
    "oneSeries = pd.Series(oneList)\n",
    "print(oneSeries)"
   ]
  },
  {
   "cell_type": "code",
   "execution_count": 9,
   "id": "330db116-eec6-42c1-a659-ef942cb87c43",
   "metadata": {},
   "outputs": [
    {
     "name": "stdout",
     "output_type": "stream",
     "text": [
      "1      1\n",
      "3      1\n",
      "6      2\n",
      "0      3\n",
      "9      3\n",
      "2      4\n",
      "8      5\n",
      "4      5\n",
      "7      6\n",
      "5      9\n",
      "10    60\n",
      "dtype: int64\n"
     ]
    }
   ],
   "source": [
    "# Write a Pandas program to sort a given Series.\n",
    "mySeries = pd.Series([3, 1, 4, 1, 5, 9, 2, 6, 5, 3, 60])\n",
    "sortedSeries = mySeries.sort_values()\n",
    "print(sortedSeries)"
   ]
  },
  {
   "cell_type": "code",
   "execution_count": 11,
   "id": "874acfd6-3091-43c0-bbd2-4e12bbda803b",
   "metadata": {},
   "outputs": [
    {
     "name": "stdout",
     "output_type": "stream",
     "text": [
      "0      3\n",
      "1      1\n",
      "2      4\n",
      "3      1\n",
      "4      5\n",
      "5      9\n",
      "6      2\n",
      "7      6\n",
      "8      5\n",
      "9      3\n",
      "10    60\n",
      "11    45\n",
      "12    54\n",
      "dtype: int64\n"
     ]
    }
   ],
   "source": [
    "#Write a Pandas program to add some data to an existing Series\n",
    "mySeries = pd.Series([3, 1, 4, 1, 5, 9, 2, 6, 5, 3, 60])\n",
    "dataToAdd = pd.Series([45,54])\n",
    "newSeries = pd.concat([mySeries, dataToAdd],ignore_index = True)\n",
    "print(newSeries)"
   ]
  },
  {
   "cell_type": "code",
   "execution_count": 13,
   "id": "d4bb73c4-ed36-4cce-88fd-8aa164273ea0",
   "metadata": {},
   "outputs": [
    {
     "name": "stdout",
     "output_type": "stream",
     "text": [
      "A    10\n",
      "B    20\n",
      "C    30\n",
      "D    40\n",
      "dtype: int64\n"
     ]
    }
   ],
   "source": [
    "#Write a Pandas program to change the order of index of a given series.\n",
    "mySeries = pd.Series([10, 20, 30, 40])\n",
    "newIndex = ['A','B','C','D']\n",
    "mySeries.index = newIndex\n",
    "print(mySeries)"
   ]
  },
  {
   "cell_type": "code",
   "execution_count": 14,
   "id": "a2e356a6-0808-4cc7-abf6-0047921dde28",
   "metadata": {},
   "outputs": [
    {
     "name": "stdout",
     "output_type": "stream",
     "text": [
      "    name  age last name\n",
      "0  Yahya   20     Ehsan\n"
     ]
    }
   ],
   "source": [
    "#Write a  Pandas program to create a dataframe from a dictionary and display it.\n",
    "myDictionary = {'name':'Yahya', 'age':20, 'last name':'Ehsan'}\n",
    "df = pd.DataFrame(myDictionary, index=[0])\n",
    "print(df)"
   ]
  },
  {
   "cell_type": "code",
   "execution_count": 17,
   "id": "869ebd96-f9fd-4e27-97cf-4d1e83d8da25",
   "metadata": {},
   "outputs": [
    {
     "name": "stdout",
     "output_type": "stream",
     "text": [
      "   Numbers Letters\n",
      "0        1   Yahya\n",
      "1        2   Ehsan\n",
      "2        3     Yes\n",
      "3        4      No\n",
      "4        5       A\n"
     ]
    }
   ],
   "source": [
    "# Write a Pandas program to view the first 5 rows of a DataFrame\n",
    "myDataFrame = {'Numbers': [1, 2, 3, 4, 5, 6, 7, 8, 9, 10], 'Letters': ['Yahya', 'Ehsan', 'Yes', 'No', 'A', 'B', 'C', 'D', 'E', 'F']}\n",
    "df = pd.DataFrame(myDataFrame)\n",
    "print(df.head())"
   ]
  },
  {
   "cell_type": "code",
   "execution_count": 18,
   "id": "1800caf4-e7ae-4115-884c-d300743bdd8e",
   "metadata": {},
   "outputs": [
    {
     "name": "stdout",
     "output_type": "stream",
     "text": [
      "0     1\n",
      "1     2\n",
      "2     3\n",
      "3     4\n",
      "4     5\n",
      "5     6\n",
      "6     7\n",
      "7     8\n",
      "8     9\n",
      "9    10\n",
      "Name: Numbers, dtype: int64\n"
     ]
    }
   ],
   "source": [
    "# Write a Pandas program to select a specific column from a DataFrame?\n",
    "myDataFrame = {'Numbers': [1, 2, 3, 4, 5, 6, 7, 8, 9, 10], 'Letters': ['Yahya', 'Ehsan', 'Yes', 'No', 'A', 'B', 'C', 'D', 'E', 'F']}\n",
    "df = pd.DataFrame(myDataFrame)\n",
    "numbersColumn = df['Numbers']\n",
    "print(numbersColumn)"
   ]
  },
  {
   "cell_type": "code",
   "execution_count": 19,
   "id": "efa33329-b3e9-4065-9ede-813d92754b6f",
   "metadata": {},
   "outputs": [
    {
     "name": "stdout",
     "output_type": "stream",
     "text": [
      "   Numbers Letters\n",
      "5        6       B\n",
      "6        7       C\n",
      "7        8       D\n",
      "8        9       E\n",
      "9       10       F\n"
     ]
    }
   ],
   "source": [
    "# Write a Pandas program to filter rows in a DataFrame where a specific column meets a certain condition?\n",
    "myDataFrame = {'Numbers': [1, 2, 3, 4, 5, 6, 7, 8, 9, 10], 'Letters': ['Yahya', 'Ehsan', 'Yes', 'No', 'A', 'B', 'C', 'D', 'E', 'F']}\n",
    "df = pd.DataFrame(myDataFrame)\n",
    "filteredDataFrame = df[df['Numbers'] > 5]\n",
    "print(filteredDataFrame)"
   ]
  },
  {
   "cell_type": "code",
   "execution_count": 21,
   "id": "29cbe478-2d82-4034-a7eb-3a08c95bd4a7",
   "metadata": {},
   "outputs": [
    {
     "name": "stdout",
     "output_type": "stream",
     "text": [
      "   Numbers Letters\n",
      "0        1   Yahya\n",
      "1        2   Ehsan\n",
      "2        3     Yes\n",
      "3        4      No\n",
      "4        5       A\n",
      "5        6       B\n",
      "6        7       C\n",
      "7        8       D\n",
      "8        9       E\n",
      "9       10       F\n"
     ]
    }
   ],
   "source": [
    "# Write a Pandas program to select multiple columns from a DataFrame?\n",
    "myDataFrame = {'Numbers': [1, 2, 3, 4, 5, 6, 7, 8, 9, 10], \n",
    "               'Letters': ['Yahya', 'Ehsan', 'Yes', 'No', 'A', 'B', 'C', 'D', 'E', 'F'], \n",
    "               'Other': [11, 12, 13, 14, 15, 16, 17, 18, 19, 20]}\n",
    "df = pd.DataFrame(myDataFrame)\n",
    "specificColumns = df[['Numbers', 'Letters']]\n",
    "print(specificColumns)"
   ]
  },
  {
   "cell_type": "code",
   "execution_count": 22,
   "id": "4665c743-e721-47cb-81c0-6ee0635b08fe",
   "metadata": {},
   "outputs": [
    {
     "name": "stdout",
     "output_type": "stream",
     "text": [
      "   Numbers Letters  Other  NewColumn\n",
      "0        1   Yahya     11         21\n",
      "1        2   Ehsan     12         22\n",
      "2        3     Yes     13         23\n",
      "3        4      No     14         24\n",
      "4        5       A     15         25\n",
      "5        6       B     16         26\n",
      "6        7       C     17         27\n",
      "7        8       D     18         28\n",
      "8        9       E     19         29\n",
      "9       10       F     20         30\n"
     ]
    }
   ],
   "source": [
    "# Write a Pandas program to add a new column to an existing DataFrame?\n",
    "myDataFrame = {'Numbers': [1, 2, 3, 4, 5, 6, 7, 8, 9, 10], \n",
    "               'Letters': ['Yahya', 'Ehsan', 'Yes', 'No', 'A', 'B', 'C', 'D', 'E', 'F'], \n",
    "               'Other': [11, 12, 13, 14, 15, 16, 17, 18, 19, 20]}\n",
    "df = pd.DataFrame(myDataFrame)\n",
    "df['NewColumn'] = [21, 22, 23, 24, 25, 26, 27, 28, 29, 30]\n",
    "print(df)"
   ]
  },
  {
   "cell_type": "code",
   "execution_count": 24,
   "id": "dbd2fe3d-9f99-4ae1-ab95-265ab3e6c8bc",
   "metadata": {},
   "outputs": [
    {
     "name": "stdout",
     "output_type": "stream",
     "text": [
      "   Numbers Letters  NewColumn\n",
      "0        1   Yahya         11\n",
      "1        2   Ehsan         12\n",
      "2        3     Yes         13\n",
      "3        4      No         14\n",
      "4        5       A         15\n",
      "5        6       B         16\n",
      "6        7       C         17\n",
      "7        8       D         18\n",
      "8        9       E         19\n",
      "9       10       F         20\n"
     ]
    }
   ],
   "source": [
    "# Write a Pandas program to rename a column in a DataFrame?\n",
    "myDataFrame = {'Numbers': [1, 2, 3, 4, 5, 6, 7, 8, 9, 10], \n",
    "               'Letters': ['Yahya', 'Ehsan', 'Yes', 'No', 'A', 'B', 'C', 'D', 'E', 'F'], \n",
    "               'Other': [11, 12, 13, 14, 15, 16, 17, 18, 19, 20]}\n",
    "df = pd.DataFrame(myDataFrame)\n",
    "df.columns = ['Numbers', 'Letters', 'NewColumn'] # df.rename(columns={'Other': 'NewColumn'}) this too?\n",
    "print(df)"
   ]
  },
  {
   "cell_type": "code",
   "execution_count": 26,
   "id": "56e126ca-232c-4da8-b2aa-89406323bdf2",
   "metadata": {},
   "outputs": [
    {
     "name": "stdout",
     "output_type": "stream",
     "text": [
      "   Numbers Letters\n",
      "0        1   Yahya\n",
      "1        2   Ehsan\n",
      "2        3     Yes\n",
      "3        4      No\n",
      "4        5       A\n",
      "5        6       B\n",
      "6        7       C\n",
      "7        8       D\n",
      "8        9       E\n",
      "9       10       F\n"
     ]
    }
   ],
   "source": [
    "# Write a Pandas program to use to drop a column or a row from a DataFrame?\n",
    "myDataFrame = {'Numbers': [1, 2, 3, 4, 5, 6, 7, 8, 9, 10], \n",
    "               'Letters': ['Yahya', 'Ehsan', 'Yes', 'No', 'A', 'B', 'C', 'D', 'E', 'F'], \n",
    "               'Other': [11, 12, 13, 14, 15, 16, 17, 18, 19, 20]}\n",
    "df = pd.DataFrame(myDataFrame)\n",
    "droppedDf = df.drop('Other', axis = 1)\n",
    "print(droppedDf)"
   ]
  },
  {
   "cell_type": "code",
   "execution_count": 27,
   "id": "49e697c4-a3c9-4861-8d0a-cc54f525a6c0",
   "metadata": {},
   "outputs": [
    {
     "name": "stdout",
     "output_type": "stream",
     "text": [
      "5.5\n"
     ]
    }
   ],
   "source": [
    "# Write a Pandas program to calculate the mean of a numerical column in a DataFrame?\n",
    "myDataFrame = {'Numbers': [1, 2, 3, 4, 5, 6, 7, 8, 9, 10], \n",
    "               'Letters': ['Yahya', 'Ehsan', 'Yes', 'No', 'A', 'B', 'C', 'D', 'E', 'F'], \n",
    "               'Other': [11, 12, 13, 14, 15, 16, 17, 18, 19, 20]}\n",
    "df = pd.DataFrame(myDataFrame)\n",
    "mean = df['Numbers'].mean()\n",
    "print(mean)"
   ]
  },
  {
   "cell_type": "code",
   "execution_count": 28,
   "id": "ad317cb2-fc8b-4ff2-b0cf-d71cb126304f",
   "metadata": {},
   "outputs": [
    {
     "name": "stdout",
     "output_type": "stream",
     "text": [
      "[11 14 15 16 17 18 19 20]\n"
     ]
    }
   ],
   "source": [
    "# Write a Pandas program to find the unique values in a specific column of a DataFrame?\n",
    "myDataFrame = {'Numbers': [1, 2, 3, 4, 5, 6, 7, 8, 9, 10], \n",
    "               'Letters': ['Yahya', 'Ehsan', 'Yes', 'No', 'A', 'B', 'C', 'D', 'E', 'F'], \n",
    "               'Other': [11, 11, 11, 14, 15, 16, 17, 18, 19, 20]}\n",
    "df = pd.DataFrame(myDataFrame)\n",
    "uniqueValues = df['Other'].unique()\n",
    "print(uniqueValues)"
   ]
  },
  {
   "cell_type": "code",
   "execution_count": 30,
   "id": "e6094d6e-9367-4ccc-9087-413a746f38fb",
   "metadata": {},
   "outputs": [
    {
     "name": "stdout",
     "output_type": "stream",
     "text": [
      "   Numbers Letters  Other\n",
      "9        1       F     20\n",
      "1        2   Ehsan     12\n",
      "3        3      No     14\n",
      "2        4     Yes     13\n",
      "4        5       A     15\n",
      "5        6       B     16\n",
      "6        7       C     17\n",
      "7        8       D     18\n",
      "8        9       E     19\n",
      "0       10   Yahya     11\n"
     ]
    }
   ],
   "source": [
    "# Write a Pandas program to sort a DataFrame by one or more columns?\n",
    "myDataFrame = {'Numbers': [10, 2, 4, 3, 5, 6, 7, 8, 9, 1], \n",
    "               'Letters': ['Yahya', 'Ehsan', 'Yes', 'No', 'A', 'B', 'C', 'D', 'E', 'F'], \n",
    "               'Other': [11, 12, 13, 14, 15, 16, 17, 18, 19, 20]}\n",
    "df = pd.DataFrame(myDataFrame)\n",
    "sortedByNum = df.sort_values(by='Numbers')\n",
    "print(sortedByNum)"
   ]
  },
  {
   "cell_type": "code",
   "execution_count": 33,
   "id": "fb1e5931-d5d2-4c60-9225-301148928570",
   "metadata": {},
   "outputs": [],
   "source": [
    "# Write a Pandas program to use to save a DataFrame as a CSV file?\n",
    "myDataFrame = {'Numbers': [10, 2, 4, 3, 5, 6, 7, 8, 9, 1], \n",
    "               'Letters': ['Yahya', 'Ehsan', 'Yes', 'No', 'A', 'B', 'C', 'D', 'E', 'F'], \n",
    "               'Other': [11, 12, 13, 14, 15, 16, 17, 18, 19, 20],\n",
    "               'New Column':[21,22,23,34,32,12,223,32,12,32]}\n",
    "df = pd.DataFrame(myDataFrame)\n",
    "df.to_csv('myFile.csv')"
   ]
  },
  {
   "cell_type": "code",
   "execution_count": null,
   "id": "f4e5567c-26f2-42db-9c6d-0b9c77060405",
   "metadata": {},
   "outputs": [],
   "source": [
    "# Write a Pandas program to read a CSV file into a DataFrame?\n",
    "df = pd.read_csv('myFile.csv') # path to csv file (same directory)\n",
    "print(df.head())"
   ]
  },
  {
   "cell_type": "code",
   "execution_count": null,
   "id": "6946fc9a-c4ca-4d03-8b3e-b81708b25187",
   "metadata": {},
   "outputs": [],
   "source": [
    "# Write a Pandas program to read data from an Excel file into a DataFrame?\n",
    "df = pd.read_excel('myFile.xlsx') # path to excel file (same directory)\n",
    "print(df.head())"
   ]
  }
 ],
 "metadata": {
  "kernelspec": {
   "display_name": "Python 3 (ipykernel)",
   "language": "python",
   "name": "python3"
  },
  "language_info": {
   "codemirror_mode": {
    "name": "ipython",
    "version": 3
   },
   "file_extension": ".py",
   "mimetype": "text/x-python",
   "name": "python",
   "nbconvert_exporter": "python",
   "pygments_lexer": "ipython3",
   "version": "3.11.9"
  }
 },
 "nbformat": 4,
 "nbformat_minor": 5
}
