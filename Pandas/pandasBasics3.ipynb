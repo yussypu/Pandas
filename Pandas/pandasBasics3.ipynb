{
 "cells": [
  {
   "cell_type": "code",
   "execution_count": 10,
   "id": "18e4a871-42c4-4163-b0ac-dc45173abc59",
   "metadata": {},
   "outputs": [
    {
     "name": "stdout",
     "output_type": "stream",
     "text": [
      "   Year Graduated  Gender Marital Status          Diploma Type Defaulted  \\\n",
      "0            2004    Male         Single      Standard Diploma       Yes   \n",
      "1            2005    Male        Married  College Prep Diploma        No   \n",
      "2            2006  Female         Single      Standard Diploma       Yes   \n",
      "3            2007    Male        Married      Standard Diploma        No   \n",
      "4            2006  Female       Divorced      Standard Diploma       Yes   \n",
      "\n",
      "   Salary    Fee Savings ($)  \n",
      "0  125000  10869     $86,000  \n",
      "1  100000  10869    $116,000  \n",
      "2   70000  10869     $52,000  \n",
      "3  120000  10869     $76,000  \n",
      "4   95000  11948     $52,000  \n",
      "\n",
      "    Year Graduated  Gender Marital Status          Diploma Type Defaulted  \\\n",
      "83            2007    Male         Single      Standard Diploma        No   \n",
      "84            2008       M         Single  College Prep Diploma       Yes   \n",
      "85            2009    Male        Married      Standard Diploma        No   \n",
      "86            2005  Female       Divorced      Standard Diploma       Yes   \n",
      "87            2006    Male        Married      Standard Diploma       Yes   \n",
      "\n",
      "    Salary    Fee Savings ($)  \n",
      "83   75000  12066     $16,000  \n",
      "84   65000  12066     $72,000  \n",
      "85   75000  12066     $46,000  \n",
      "86  100000  12067     $32,000  \n",
      "87   75000  12067     $67,000  \n",
      "\n",
      "Year Graduated     int64\n",
      "Gender            object\n",
      "Marital Status    object\n",
      "Diploma Type      object\n",
      "Defaulted         object\n",
      "Salary             int64\n",
      "Fee                int64\n",
      "Savings ($)       object\n",
      "dtype: object\n",
      "\n",
      "<class 'pandas.core.frame.DataFrame'>\n",
      "RangeIndex: 88 entries, 0 to 87\n",
      "Data columns (total 8 columns):\n",
      " #   Column          Non-Null Count  Dtype \n",
      "---  ------          --------------  ----- \n",
      " 0   Year Graduated  88 non-null     int64 \n",
      " 1   Gender          88 non-null     object\n",
      " 2   Marital Status  88 non-null     object\n",
      " 3   Diploma Type    88 non-null     object\n",
      " 4   Defaulted       88 non-null     object\n",
      " 5   Salary          88 non-null     int64 \n",
      " 6   Fee             88 non-null     int64 \n",
      " 7   Savings ($)     88 non-null     object\n",
      "dtypes: int64(3), object(5)\n",
      "memory usage: 5.6+ KB\n",
      "None\n",
      "\n",
      "       Year Graduated         Salary           Fee\n",
      "count       88.000000      88.000000     88.000000\n",
      "mean      2006.477273   84090.909091  11708.727273\n",
      "std          1.560852   21234.128008   1110.647949\n",
      "min       2004.000000   35000.000000  10869.000000\n",
      "25%       2005.000000   75000.000000  10968.000000\n",
      "50%       2006.500000   75000.000000  11696.000000\n",
      "75%       2008.000000   90000.000000  12058.250000\n",
      "max       2009.000000  160000.000000  20960.000000\n"
     ]
    }
   ],
   "source": [
    "# Import CSV file alumini.csv, pandas commands to understand the data set: a) head, b) tail, c) dtypes, d) info, e) describe\n",
    "import pandas as pd\n",
    "\n",
    "alumni = pd.read_csv('alumni.csv')\n",
    "\n",
    "print(alumni.head())  \n",
    "print()\n",
    "print(alumni.tail())  \n",
    "print()\n",
    "print(alumni.dtypes)  \n",
    "print()\n",
    "print(alumni.info())  \n",
    "print()\n",
    "print(alumni.describe()) "
   ]
  },
  {
   "cell_type": "code",
   "execution_count": 13,
   "id": "d0b9ba75-5beb-44d5-a294-379d049cac5d",
   "metadata": {},
   "outputs": [
    {
     "name": "stdout",
     "output_type": "stream",
     "text": [
      "float64\n"
     ]
    }
   ],
   "source": [
    "# Use clean_currency method below to strip out commas and dollar signs from Savings ($) column and put into a new column called 'Savings'.Uncomment 'alumni.dtypes.Savings' to check that the type change has occurred\n",
    "def cleanCurrency(number):\n",
    "    if isinstance(number, str):\n",
    "        return float(number.replace(',', '').replace('$', ''))\n",
    "    else:\n",
    "        return number\n",
    "alumni['Savings'] = alumni['Savings ($)'].apply(cleanCurrency)\n",
    "print(alumni.dtypes['Savings'])"
   ]
  },
  {
   "cell_type": "code",
   "execution_count": 8,
   "id": "cce99dd6-b2d4-4c76-a19c-6474734409ac",
   "metadata": {},
   "outputs": [
    {
     "name": "stdout",
     "output_type": "stream",
     "text": [
      "Gender\n",
      "Male      49\n",
      "Female    39\n",
      "Name: count, dtype: int64\n",
      "0       Male\n",
      "1       Male\n",
      "2     Female\n",
      "3       Male\n",
      "4     Female\n",
      "       ...  \n",
      "83      Male\n",
      "84      Male\n",
      "85      Male\n",
      "86    Female\n",
      "87      Male\n",
      "Name: Gender, Length: 88, dtype: object\n"
     ]
    }
   ],
   "source": [
    "# Run the 'alumni[\"Gender\"].value_counts()' to see the incorrect 'M' fields that need to be converted to 'Male', Now use a '.str.replace' on the 'Gender' column to covert the incorrect 'M' fields\n",
    "print(alumni['Gender'].value_counts()) \n",
    "alumni['Gender'] = alumni['Gender'].str.replace('^M$', 'Male', regex=True)\n",
    "print(alumni['Gender'])"
   ]
  },
  {
   "cell_type": "code",
   "execution_count": 14,
   "id": "91d32c3a-dc4a-43f8-a7c6-a8dd4a096eb0",
   "metadata": {},
   "outputs": [
    {
     "name": "stdout",
     "output_type": "stream",
     "text": [
      "Median Salary: 75000.0\n",
      "Mean Salary: 84090.90909090909\n",
      "Standard Deviation of Salary: 21234.1280081736\n",
      "    Year Graduated Gender Marital Status      Diploma Type Defaulted  Salary  \\\n",
      "18            2006   Male        Married  Standard Diploma        No  140000   \n",
      "\n",
      "      Fee Savings ($)  Savings  \n",
      "18  20960     $72,000  72000.0  \n",
      "Diploma Type\n",
      "Standard Diploma        65\n",
      "College Prep Diploma    23\n",
      "Name: count, dtype: int64\n"
     ]
    }
   ],
   "source": [
    "print(\"Median Salary:\", alumni['Salary'].median())\n",
    "print(\"Mean Salary:\", alumni['Salary'].mean())\n",
    "print(\"Standard Deviation of Salary:\", alumni['Salary'].std())\n",
    "\n",
    "highFee = alumni[alumni['Fee'] > 15000]\n",
    "print(highFee)\n",
    "\n",
    "print(alumni['Diploma Type'].value_counts())"
   ]
  },
  {
   "cell_type": "code",
   "execution_count": null,
   "id": "a68b9192-9682-4b5e-933f-d0d62b58fc51",
   "metadata": {},
   "outputs": [],
   "source": []
  }
 ],
 "metadata": {
  "kernelspec": {
   "display_name": "Python 3 (ipykernel)",
   "language": "python",
   "name": "python3"
  },
  "language_info": {
   "codemirror_mode": {
    "name": "ipython",
    "version": 3
   },
   "file_extension": ".py",
   "mimetype": "text/x-python",
   "name": "python",
   "nbconvert_exporter": "python",
   "pygments_lexer": "ipython3",
   "version": "3.11.9"
  }
 },
 "nbformat": 4,
 "nbformat_minor": 5
}
