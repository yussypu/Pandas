{
 "cells": [
  {
   "cell_type": "code",
   "execution_count": 1,
   "id": "3c731602-73e1-45aa-9f7a-59cffbb69bab",
   "metadata": {},
   "outputs": [
    {
     "name": "stdout",
     "output_type": "stream",
     "text": [
      "      Product   Region  Sales_Q1  Sales_Q2  Sales_Q3  Sales_Q4\n",
      "0      Laptop    North     12000     15000     13000     16000\n",
      "1      Tablet     East     10000      9000      9500     11000\n",
      "2       Phone    South     14000     12000     12500     13500\n",
      "3     Monitor     West     11000     11500     11800     12200\n",
      "4  Headphones  Central      8000      9000     10000     12000\n",
      "5    Keyboard    South      5000      6000      7000      8000\n"
     ]
    }
   ],
   "source": [
    "# Create a DataFrame named df_sales with the following columns: Product, Region, Sales_Q1, Sales_Q2, Sales_Q3, Sales_Q4.\n",
    "# Populate the DataFrame with at least 6 rows of data.\n",
    "import pandas as pd\n",
    "import numpy as np\n",
    "data = {\n",
    "    'Product': ['Laptop', 'Tablet', 'Phone', 'Monitor', 'Headphones', 'Keyboard'],\n",
    "    'Region': ['North', 'East', 'South', 'West', 'Central', 'South'],\n",
    "    'Sales_Q1': [12000, 10000, 14000, 11000, 8000, 5000],\n",
    "    'Sales_Q2': [15000, 9000, 12000, 11500, 9000, 6000],\n",
    "    'Sales_Q3': [13000, 9500, 12500, 11800, 10000, 7000],\n",
    "    'Sales_Q4': [16000, 11000, 13500, 12200, 12000, 8000]\n",
    "}\n",
    "\n",
    "df_sales = pd.DataFrame(data)\n",
    "\n",
    "print(df_sales)"
   ]
  },
  {
   "cell_type": "code",
   "execution_count": 2,
   "id": "5a2c56b4-178f-4cb8-bd62-83c4b169595d",
   "metadata": {},
   "outputs": [
    {
     "name": "stdout",
     "output_type": "stream",
     "text": [
      "0    56000\n",
      "1    39500\n",
      "2    52000\n",
      "3    46500\n",
      "4    39000\n",
      "5    26000\n",
      "Name: Total_Sales, dtype: int64\n"
     ]
    }
   ],
   "source": [
    "# Calculate the total annual sales for each product and add it as a new column named Total_Sales.\n",
    "df_sales['Total_Sales'] = df_sales['Sales_Q1'] + df_sales['Sales_Q2'] + df_sales['Sales_Q3'] + df_sales['Sales_Q4']\n",
    "print(df_sales['Total_Sales'])"
   ]
  },
  {
   "cell_type": "code",
   "execution_count": 3,
   "id": "12744d65-bceb-4a03-9d9a-953e527a648b",
   "metadata": {},
   "outputs": [
    {
     "name": "stdout",
     "output_type": "stream",
     "text": [
      "Product with highest sales: Laptop\n"
     ]
    }
   ],
   "source": [
    "# Find the product with the highest Total_Sales.\n",
    "df_sorted = df_sales.sort_values(by='Total_Sales', ascending=False)\n",
    "highest_sales_product = df_sorted.iloc[0]['Product']\n",
    "print(\"Product with highest sales:\", highest_sales_product)"
   ]
  },
  {
   "cell_type": "code",
   "execution_count": 4,
   "id": "f9597247-45a3-4be4-aedd-89135d33cdd3",
   "metadata": {},
   "outputs": [
    {
     "name": "stdout",
     "output_type": "stream",
     "text": [
      "Region with highest Sales_Q3: North\n"
     ]
    }
   ],
   "source": [
    "# Determine the region with the highest sales in Sales_Q3\n",
    "df_sorted_q3 = df_sales.sort_values(by='Sales_Q3', ascending=False)\n",
    "highest_sales_q3_region = df_sorted_q3.iloc[0]['Region']\n",
    "print(\"Region with highest Sales_Q3:\", highest_sales_q3_region)"
   ]
  },
  {
   "cell_type": "code",
   "execution_count": 5,
   "id": "dee5ec3a-d003-43b8-b5d0-fa1e6594a805",
   "metadata": {},
   "outputs": [
    {
     "name": "stdout",
     "output_type": "stream",
     "text": [
      "      Product   Region  Sales_Q1  Sales_Q2  Sales_Q3  Sales_Q4  Total_Sales\n",
      "0      Laptop    North   12000.0   15000.0   13000.0   16000.0        56000\n",
      "1      Tablet     East   10000.0       NaN       NaN   11000.0        39500\n",
      "2       Phone    South   14000.0   12000.0   12500.0   13500.0        52000\n",
      "3     Monitor     West   11000.0   11500.0   11800.0   12200.0        46500\n",
      "4  Headphones  Central       NaN       NaN   10000.0   12000.0        39000\n",
      "5    Keyboard    South       NaN       NaN       NaN       NaN        26000\n"
     ]
    }
   ],
   "source": [
    "# Replace any sales figure below 10000 with NaN\n",
    "columns = ['Sales_Q1', 'Sales_Q2', 'Sales_Q3', 'Sales_Q4']\n",
    "for col in columns:\n",
    "    df_sales[col] = np.where(df_sales[col] >= 10000, df_sales[col], np.nan)\n",
    "\n",
    "print(df_sales)"
   ]
  },
  {
   "cell_type": "code",
   "execution_count": 6,
   "id": "4cf13508-2fb0-48fc-8781-a6ef3aab5bdf",
   "metadata": {},
   "outputs": [
    {
     "name": "stdout",
     "output_type": "stream",
     "text": [
      "   Product Region  Sales_Q1  Sales_Q2  Sales_Q3  Sales_Q4  Total_Sales\n",
      "0   Laptop  North   12000.0   15000.0   13000.0   16000.0        56000\n",
      "2    Phone  South   14000.0   12000.0   12500.0   13500.0        52000\n",
      "3  Monitor   West   11000.0   11500.0   11800.0   12200.0        46500\n"
     ]
    }
   ],
   "source": [
    "# Filter out products with Total_Sales less than 45000\n",
    "filtered_df = df_sales[df_sales['Total_Sales'] >= 45000]\n",
    "print(filtered_df)"
   ]
  },
  {
   "cell_type": "code",
   "execution_count": 7,
   "id": "6c1f8625-eb12-47a1-926d-003c38d7eb42",
   "metadata": {},
   "outputs": [
    {
     "name": "stdout",
     "output_type": "stream",
     "text": [
      "      Product   Region  Sales_Q1  Sales_Q2  Sales_Q3  Sales_Q4  Total_Sales\n",
      "0      Laptop    North   12000.0   15000.0   13000.0   16000.0        56000\n",
      "2       Phone    South   14000.0   12000.0   12500.0   13500.0        52000\n",
      "3     Monitor     West   11000.0   11500.0   11800.0   12200.0        46500\n",
      "1      Tablet     East   10000.0       NaN       NaN   11000.0        39500\n",
      "4  Headphones  Central       NaN       NaN   10000.0   12000.0        39000\n",
      "5    Keyboard    South       NaN       NaN       NaN       NaN        26000\n"
     ]
    }
   ],
   "source": [
    "# Sort the DataFrame based on Total_Sales in descending order\n",
    "sorted_df_sales = df_sales.sort_values(by='Total_Sales', ascending=False)\n",
    "print(sorted_df_sales)"
   ]
  },
  {
   "cell_type": "code",
   "execution_count": 8,
   "id": "b01203ef-bf44-42ec-85c5-dc30e73ccce7",
   "metadata": {},
   "outputs": [
    {
     "name": "stdout",
     "output_type": "stream",
     "text": [
      "Region\n",
      "Central    39000\n",
      "East       39500\n",
      "North      56000\n",
      "South      78000\n",
      "West       46500\n",
      "Name: Total_Sales, dtype: int64\n"
     ]
    }
   ],
   "source": [
    "# Group the data by Region and calculate the total sales for each region across all quarters.\n",
    "total_sales_by_region = df_sales.groupby('Region')['Total_Sales'].sum()\n",
    "print(total_sales_by_region)"
   ]
  },
  {
   "cell_type": "code",
   "execution_count": 9,
   "id": "cdfb3608-6ed0-4171-91ab-c1b4bfb04674",
   "metadata": {},
   "outputs": [
    {
     "name": "stdout",
     "output_type": "stream",
     "text": [
      "            Sales_Q1  Sales_Q2  Sales_Q3  Sales_Q4\n",
      "Product                                           \n",
      "Headphones       NaN       NaN   10000.0   12000.0\n",
      "Keyboard         NaN       NaN       NaN       NaN\n",
      "Laptop       12000.0   15000.0   13000.0   16000.0\n",
      "Monitor      11000.0   11500.0   11800.0   12200.0\n",
      "Phone        14000.0   12000.0   12500.0   13500.0\n",
      "Tablet       10000.0       NaN       NaN   11000.0\n"
     ]
    }
   ],
   "source": [
    "# Group the data by Product and find the average sales per quarter.\n",
    "average_sales_per_quarter = df_sales.groupby('Product')[['Sales_Q1', 'Sales_Q2', 'Sales_Q3', 'Sales_Q4']].mean()\n",
    "print(average_sales_per_quarter)"
   ]
  },
  {
   "cell_type": "code",
   "execution_count": 14,
   "id": "0c690bb3-b99d-4a0c-afc5-66901a7b2056",
   "metadata": {},
   "outputs": [
    {
     "data": {
      "image/png": "[encoded data removed]",
      "text/plain": [
       "<Figure size 640x480 with 1 Axes>"
      ]
     },
     "metadata": {},
     "output_type": "display_data"
    }
   ],
   "source": [
    "# Create a bar plot showing total sales for each product.Create a line plot to show sales trends for one product across all quarters.\n",
    "# Save the final DataFrame to a CSV file named final_sales_report.csv. \"\n",
    "import matplotlib.pyplot as plt\n",
    "df_sales.plot(x='Product', y='Total_Sales', kind='bar')\n",
    "plt.show()"
   ]
  },
  {
   "cell_type": "code",
   "execution_count": 20,
   "id": "4e247796-b2e1-4e27-a776-e31fb04c62e3",
   "metadata": {},
   "outputs": [
    {
     "data": {
      "image/png": "[encoded data removed]",
      "text/plain": [
       "<Figure size 640x480 with 1 Axes>"
      ]
     },
     "metadata": {},
     "output_type": "display_data"
    }
   ],
   "source": [
    "# Create a line plot to show sales trends for one product across all quarters.\n",
    "product_to_plot = 'Laptop'\n",
    "df_sales[df_sales['Product'] == product_to_plot][['Sales_Q1', 'Sales_Q2', 'Sales_Q3', 'Sales_Q4']].plot()\n",
    "plt.show()"
   ]
  },
  {
   "cell_type": "code",
   "execution_count": null,
   "id": "511d4faf-8aab-4e40-a91f-a860cfee4e60",
   "metadata": {},
   "outputs": [],
   "source": [
    "df_sales.to_csv('sales_report.csv', index=False)"
   ]
  }
 ],
 "metadata": {
  "kernelspec": {
   "display_name": "Python 3 (ipykernel)",
   "language": "python",
   "name": "python3"
  },
  "language_info": {
   "codemirror_mode": {
    "name": "ipython",
    "version": 3
   },
   "file_extension": ".py",
   "mimetype": "text/x-python",
   "name": "python",
   "nbconvert_exporter": "python",
   "pygments_lexer": "ipython3",
   "version": "3.11.9"
  }
 },
 "nbformat": 4,
 "nbformat_minor": 5
}
