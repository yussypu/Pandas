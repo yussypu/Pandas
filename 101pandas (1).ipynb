{
 "cells": [
  {
   "cell_type": "code",
   "execution_count": 1,
   "id": "a8411887-d39a-44a6-9379-5a311d1baee7",
   "metadata": {},
   "outputs": [
    {
     "name": "stdout",
     "output_type": "stream",
     "text": [
      "2.2.2\n"
     ]
    }
   ],
   "source": [
    "import pandas as pd\n",
    "print(pd.__version__)"
   ]
  },
  {
   "cell_type": "code",
   "execution_count": 2,
   "id": "2d08f4b0-06c9-4cfe-b145-4e4c0d9c327a",
   "metadata": {},
   "outputs": [
    {
     "name": "stdout",
     "output_type": "stream",
     "text": [
      "0    10\n",
      "1    20\n",
      "2    30\n",
      "3    40\n",
      "dtype: int64\n"
     ]
    }
   ],
   "source": [
    "my_list = [10, 20, 30, 40]\n",
    "series_from_list = pd.Series(my_list)\n",
    "print(series_from_list)"
   ]
  },
  {
   "cell_type": "code",
   "execution_count": 3,
   "id": "0a8e923a-410f-41a5-8418-074d792359e4",
   "metadata": {},
   "outputs": [
    {
     "name": "stdout",
     "output_type": "stream",
     "text": [
      "0    10\n",
      "1    20\n",
      "2    30\n",
      "3    40\n",
      "dtype: int64\n",
      "a    10\n",
      "b    20\n",
      "c    30\n",
      "d    40\n",
      "dtype: int64\n"
     ]
    }
   ],
   "source": [
    "import numpy as np\n",
    "my_array = np.array([10, 20, 30, 40])\n",
    "series_from_array = pd.Series(my_array)\n",
    "print(series_from_array)\n",
    "my_dict = {'a': 10, 'b': 20, 'c': 30, 'd': 40}\n",
    "series_from_dict = pd.Series(my_dict)\n",
    "print(series_from_dict)"
   ]
  },
  {
   "cell_type": "code",
   "execution_count": 4,
   "id": "fdf9c49b-7989-4bbf-b511-af2f7a332716",
   "metadata": {},
   "outputs": [
    {
     "name": "stdout",
     "output_type": "stream",
     "text": [
      "   index   0\n",
      "0      0  10\n",
      "1      1  20\n",
      "2      2  30\n",
      "3      3  40\n"
     ]
    }
   ],
   "source": [
    "df = series_from_array.reset_index()\n",
    "print(df)"
   ]
  },
  {
   "cell_type": "code",
   "execution_count": 5,
   "id": "5e2e5223-d5c5-4bc9-88d7-7d3ea5172132",
   "metadata": {},
   "outputs": [
    {
     "name": "stdout",
     "output_type": "stream",
     "text": [
      "      0     1\n",
      "a  10.0   NaN\n",
      "b  20.0   NaN\n",
      "c  30.0   NaN\n",
      "d  40.0   NaN\n",
      "0   NaN  10.0\n",
      "1   NaN  20.0\n",
      "2   NaN  30.0\n",
      "3   NaN  40.0\n"
     ]
    }
   ],
   "source": [
    "df = pd.concat([series_from_dict, series_from_list], axis=1)\n",
    "print(df)"
   ]
  },
  {
   "cell_type": "code",
   "execution_count": 6,
   "id": "1a0048da-c560-4536-9dc8-5516925e4c89",
   "metadata": {},
   "outputs": [
    {
     "name": "stdout",
     "output_type": "stream",
     "text": [
      "0    a\n",
      "1    b\n",
      "2    c\n",
      "3    d\n",
      "Name: alphabets, dtype: object\n"
     ]
    }
   ],
   "source": [
    "ser = pd.Series(['a', 'b', 'c', 'd'])\n",
    "ser.name = 'alphabets'\n",
    "print(ser)"
   ]
  },
  {
   "cell_type": "code",
   "execution_count": 7,
   "id": "13c6aef9-fa22-4dc3-bf55-14d370ba0a37",
   "metadata": {},
   "outputs": [
    {
     "name": "stdout",
     "output_type": "stream",
     "text": [
      "2    c\n",
      "3    d\n",
      "Name: alphabets, dtype: object\n"
     ]
    }
   ],
   "source": [
    "serB = pd.Series(['a','b'])\n",
    "result = ser[~ser.isin(serB)]\n",
    "print(result)"
   ]
  },
  {
   "cell_type": "code",
   "execution_count": 8,
   "id": "c238bd8f-4f03-4e39-90a4-789eea550b3e",
   "metadata": {},
   "outputs": [
    {
     "name": "stdout",
     "output_type": "stream",
     "text": [
      "Object `B` not found.\n",
      "0    a\n",
      "1    b\n",
      "2    c\n",
      "3    d\n",
      "dtype: object\n"
     ]
    }
   ],
   "source": [
    "ser_common = pd.Series(np.union1d(ser, serB))\n",
    "print(ser_common)"
   ]
  },
  {
   "cell_type": "code",
   "execution_count": 10,
   "id": "1c7edb56-4928-43e3-ba84-c62420be9f56",
   "metadata": {},
   "outputs": [
    {
     "name": "stdout",
     "output_type": "stream",
     "text": [
      "1 10 3.25 5.5 7.75\n"
     ]
    }
   ],
   "source": [
    "ser = pd.Series([1, 2, 3, 4, 5, 6, 7, 8, 9, 10])\n",
    "minimum = ser.min()\n",
    "maximum = ser.max()\n",
    "percentile_25 = ser.quantile(0.25)\n",
    "percentile_75 = ser.quantile(0.75)\n",
    "median = ser.quantile(0.5)\n",
    "print(minimum, maximum, percentile_25, median, percentile_75)"
   ]
  },
  {
   "cell_type": "code",
   "execution_count": 11,
   "id": "070fb0f9-1df6-4740-8827-e0093a94fe1d",
   "metadata": {},
   "outputs": [
    {
     "name": "stdout",
     "output_type": "stream",
     "text": [
      "0    Other\n",
      "1        b\n",
      "2        b\n",
      "3        b\n",
      "4        c\n",
      "5        c\n",
      "6    Other\n",
      "7    Other\n",
      "8    Other\n",
      "dtype: object\n"
     ]
    }
   ],
   "source": [
    "ser = pd.Series(['a','b','b','b','c','c','e','f','g'])\n",
    "top_2 = ser.value_counts().nlargest(2).index\n",
    "result = ser.where(ser.isin(top_2), other='Other')\n",
    "print(result)"
   ]
  },
  {
   "cell_type": "code",
   "execution_count": 12,
   "id": "533987d4-e9bb-4f88-8a39-74f885eca7e8",
   "metadata": {},
   "outputs": [
    {
     "name": "stdout",
     "output_type": "stream",
     "text": [
      "0     (0.821, 0.909]\n",
      "1     (0.909, 0.997]\n",
      "2     (0.205, 0.293]\n",
      "3     (0.205, 0.293]\n",
      "4     (0.645, 0.733]\n",
      "5     (0.909, 0.997]\n",
      "6     (0.557, 0.645]\n",
      "7     (0.205, 0.293]\n",
      "8     (0.116, 0.205]\n",
      "9     (0.645, 0.733]\n",
      "10    (0.116, 0.205]\n",
      "11    (0.116, 0.205]\n",
      "12    (0.205, 0.293]\n",
      "13    (0.469, 0.557]\n",
      "14    (0.381, 0.469]\n",
      "15    (0.469, 0.557]\n",
      "16    (0.733, 0.821]\n",
      "17    (0.733, 0.821]\n",
      "18    (0.909, 0.997]\n",
      "19    (0.821, 0.909]\n",
      "dtype: category\n",
      "Categories (10, interval[float64, right]): [(0.116, 0.205] < (0.205, 0.293] < (0.293, 0.381] < (0.381, 0.469] ... (0.645, 0.733] < (0.733, 0.821] < (0.821, 0.909] < (0.909, 0.997]]\n"
     ]
    }
   ],
   "source": [
    "ser = pd.Series(np.random.random(20))\n",
    "bins = pd.cut(ser, bins=10)\n",
    "print(bins)"
   ]
  },
  {
   "cell_type": "code",
   "execution_count": 13,
   "id": "d03b88d5-4526-4b1d-bac2-9bee4f9b04e3",
   "metadata": {},
   "outputs": [
    {
     "name": "stdout",
     "output_type": "stream",
     "text": [
      "[2 4 5]\n"
     ]
    }
   ],
   "source": [
    "ser = pd.Series(np.random.randint(1, 10, 7))\n",
    "positions = np.where(ser % 3 == 0)[0]\n",
    "print(positions)"
   ]
  },
  {
   "cell_type": "code",
   "execution_count": 14,
   "id": "29097b19-e7e7-441d-83f4-007dbd44085f",
   "metadata": {},
   "outputs": [
    {
     "name": "stdout",
     "output_type": "stream",
     "text": [
      "[ 1  3 -1 -1]\n"
     ]
    }
   ],
   "source": [
    "ser1 = pd.Series([10, 9, 6, 5, 3, 1, 12, 8, 13])\n",
    "ser2 = pd.Series([1, 3, 10, 13])\n",
    "answer = ser1.index.get_indexer(ser2)\n",
    "print(answer)"
   ]
  },
  {
   "cell_type": "code",
   "execution_count": 15,
   "id": "ac237c5c-d79a-4158-ba5b-b4ee1d720fde",
   "metadata": {},
   "outputs": [
    {
     "name": "stdout",
     "output_type": "stream",
     "text": [
      "0     How\n",
      "1      To\n",
      "2    Kick\n",
      "3    Ass?\n",
      "dtype: object\n"
     ]
    }
   ],
   "source": [
    "ser = pd.Series(['how', 'to', 'kick', 'ass?'])\n",
    "ser_capitalized = ser.str.capitalize()\n",
    "print(ser_capitalized)"
   ]
  },
  {
   "cell_type": "code",
   "execution_count": 16,
   "id": "ad7e310e-aad5-4a33-9e77-fc88802b2370",
   "metadata": {},
   "outputs": [
    {
     "name": "stdout",
     "output_type": "stream",
     "text": [
      "0    3\n",
      "1    2\n",
      "2    4\n",
      "3    4\n",
      "dtype: int64\n"
     ]
    }
   ],
   "source": [
    "lengths = ser.str.len()\n",
    "print(lengths)"
   ]
  },
  {
   "cell_type": "code",
   "execution_count": 19,
   "id": "e3ec6b14-3fad-4143-9e89-32a6aa436c2c",
   "metadata": {},
   "outputs": [
    {
     "name": "stdout",
     "output_type": "stream",
     "text": [
      "0   2010-01-01 00:00:00\n",
      "1   2011-02-02 00:00:00\n",
      "2   2012-03-03 00:00:00\n",
      "3   2013-04-04 00:00:00\n",
      "4   2014-05-05 00:00:00\n",
      "5   2015-06-06 12:20:00\n",
      "dtype: datetime64[ns]\n"
     ]
    }
   ],
   "source": [
    "ser = pd.Series(['01 Jan 2010', '02-02-2011', '20120303', '2013/04/04', '2014-05-05', '2015-06-06T12:20'])\n",
    "formats = [\n",
    "    '%d %b %Y',      \n",
    "    '%d-%m-%Y',      \n",
    "    '%Y%m%d',         \n",
    "    '%Y/%m/%d',\n",
    "    '%Y-%m-%d',         \n",
    "    '%Y-%m-%dT%H:%M'    \n",
    "]\n",
    "def convert_date(date_str):\n",
    "    for fmt in formats:\n",
    "        try:\n",
    "            return pd.to_datetime(date_str, format=fmt)\n",
    "        except ValueError:\n",
    "            continue\n",
    "    return pd.NaT\n",
    "\n",
    "timeseries = ser.apply(convert_date)\n",
    "print(timeseries)"
   ]
  },
  {
   "cell_type": "code",
   "execution_count": 21,
   "id": "7f4e570b-2cb3-4283-ba2e-86e283da9d03",
   "metadata": {},
   "outputs": [
    {
     "name": "stdout",
     "output_type": "stream",
     "text": [
      "0     Apple\n",
      "1    Orange\n",
      "4     Money\n",
      "dtype: object\n"
     ]
    }
   ],
   "source": [
    "ser = pd.Series(['Apple', 'Orange', 'Plan', 'Python', 'Money'])\n",
    "def contains_at_least_two_vowels(word):\n",
    "    word = word.lower()\n",
    "    vowels = 'aeiou'\n",
    "    count = sum(1 for char in word if char in vowels)\n",
    "    return count >= 2\n",
    "filtered_ser = ser[ser.apply(contains_at_least_two_vowels)]\n",
    "print(filtered_ser)"
   ]
  },
  {
   "cell_type": "code",
   "execution_count": 22,
   "id": "f5ed1f4e-3a0b-4a82-a1c8-25ca18f14673",
   "metadata": {},
   "outputs": [
    {
     "name": "stdout",
     "output_type": "stream",
     "text": [
      "1    rameses@egypt.com\n",
      "2            matt@t.co\n",
      "3    narendra@modi.com\n",
      "dtype: object\n"
     ]
    }
   ],
   "source": [
    "emails = pd.Series(['buying books at amazom.com', 'rameses@egypt.com', 'matt@t.co', 'narendra@modi.com'])\n",
    "pattern = r'[A-Za-z0-9._%+-]+@[A-Za-z0-9.-]+\\.[A-Za-z]{2,}'\n",
    "valid_emails = emails[emails.str.contains(pattern, regex=True)]\n",
    "print(valid_emails)"
   ]
  },
  {
   "cell_type": "code",
   "execution_count": null,
   "id": "b963f14a-bde9-417e-8488-3e36fe364b82",
   "metadata": {},
   "outputs": [],
   "source": [
    "p = pd.Series([1, 2, 3, 4, 5, 6, 7, 8, 9, 10])\n",
    "q = pd.Series([10, 9, 8, 7, 6, 5, 4, 3, 2, 1])\n",
    "distance = np.sqrt(((p - q) ** 2).sum())\n",
    "print(distance)"
   ]
  }
 ],
 "metadata": {
  "kernelspec": {
   "display_name": "Python 3 (ipykernel)",
   "language": "python",
   "name": "python3"
  },
  "language_info": {
   "codemirror_mode": {
    "name": "ipython",
    "version": 3
   },
   "file_extension": ".py",
   "mimetype": "text/x-python",
   "name": "python",
   "nbconvert_exporter": "python",
   "pygments_lexer": "ipython3",
   "version": "3.11.9"
  }
 },
 "nbformat": 4,
 "nbformat_minor": 5
}
